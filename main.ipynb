{
 "cells": [
  {
   "cell_type": "code",
   "execution_count": 13,
   "id": "e29620e8",
   "metadata": {},
   "outputs": [],
   "source": [
    "import requests\n",
    "import matplotlib.pyplot as plt"
   ]
  },
  {
   "cell_type": "markdown",
   "id": "d38186a9",
   "metadata": {},
   "source": [
    "### Core Idea\n",
    "\n",
    "A good python project is most likely distributed via PyPI"
   ]
  },
  {
   "cell_type": "markdown",
   "id": "dbbe33d3",
   "metadata": {},
   "source": [
    "### Realisation\n",
    "\n",
    " Take repository name and try to find package with this exact name"
   ]
  },
  {
   "cell_type": "code",
   "execution_count": 3,
   "id": "45fe433a",
   "metadata": {},
   "outputs": [],
   "source": [
    "test_data = [\n",
    "    'https://github.com/PyCQA/pylint | 10',\n",
    "    'https://github.com/PyCQA/flake8 | 10',\n",
    "    'https://github.com/deepfakes/faceswap | 9',\n",
    "    'https://github.com/cookiecutter/cookiecutter | 8',\n",
    "    'https://github.com/zappa/zappa | 7',\n",
    "    'https://github.com/box/box-python-sdk | 7',\n",
    "    'https://github.com/box/flaky | 6',\n",
    "    'https://github.com/zalando/python-nsenter | 6',\n",
    "    'https://github.com/jazzband/django-pipeline | 5',\n",
    "    'https://github.com/tiangolo/full-stack | 4',\n",
    "    'https://github.com/miracle2k/flask-assets | 3',\n",
    "    'https://github.com/tiangolo/docker-auto-labels | 2',\n",
    "    'https://github.com/tiangolo/bitbucket_issues_to_redmine_csv | 1',\n",
    "    'https://github.com/zalando-stups/senza | 1',\n",
    "    'https://github.com/aizvorski/scikit-video | 1',\n",
    "]"
   ]
  },
  {
   "cell_type": "code",
   "execution_count": 23,
   "id": "6168b807",
   "metadata": {},
   "outputs": [],
   "source": [
    "def get_score(repo_name):\n",
    "    return int(requests.get(f'https://pypi.org/project/{repo_name}').status_code == 200)\n",
    "\n",
    "exp_results = [get_score(datum.replace(' ', '').split('|')[0].split('/')[-1]) for datum in test_data]\n",
    "my_eval = [int(datum.replace(' ', '').split('|')[1]) for datum in test_data]"
   ]
  },
  {
   "cell_type": "code",
   "execution_count": 28,
   "id": "4c7a02b3",
   "metadata": {},
   "outputs": [],
   "source": [
    "def print_plot():\n",
    "\n",
    "    for i in range(0, len(test_data)):\n",
    "        plt.plot(i, exp_results[i] * 5, 'yo')\n",
    "    \n",
    "    for i in range(0, len(test_data)):\n",
    "        plt.plot(i, my_eval[i], 'go')\n",
    "\n",
    "    plt.show()"
   ]
  },
  {
   "cell_type": "code",
   "execution_count": 25,
   "id": "b1d35ffc",
   "metadata": {},
   "outputs": [
    {
     "name": "stdout",
     "output_type": "stream",
     "text": [
      "[1, 1, 0, 1, 1, 1, 1, 0, 1, 0, 1, 1, 0, 1, 1]\n",
      "[10, 10, 9, 8, 7, 7, 6, 6, 5, 4, 3, 2, 1, 1, 1]\n"
     ]
    }
   ],
   "source": [
    "print(exp_results)\n",
    "print(my_eval)"
   ]
  },
  {
   "cell_type": "code",
   "execution_count": 29,
   "id": "ca78dba3",
   "metadata": {},
   "outputs": [
    {
     "data": {
      "image/png": "[encoded data removed]",
      "text/plain": [
       "<Figure size 432x288 with 1 Axes>"
      ]
     },
     "metadata": {
      "needs_background": "light"
     },
     "output_type": "display_data"
    }
   ],
   "source": [
    "print_plot()"
   ]
  },
  {
   "cell_type": "markdown",
   "id": "807df5ee",
   "metadata": {},
   "source": [
    "### Results\n",
    "\n",
    "(yellow dots represent is there PyPI distribution, green ones - my personal evaluation of the projects)\n",
    "\n",
    "\n",
    "As we can see from the graph up above most of the projects are being distributed via PIP. However, there are some projects that are not. One of 14 projects has different name in PyPI (python-nsenter). Another project, bitbucket_issues_to_redmine_csv, does not have PyPI package indeed. However, there is a great faceswap project that is distrubuted via Anaconda not PyPY. "
   ]
  },
  {
   "cell_type": "markdown",
   "id": "8946b081",
   "metadata": {},
   "source": [
    "### Conclusion\n",
    "\n",
    "Its hard to make useful and reliable conclusions about project depending on this metric. Better to discuss metric results in more details during next stand-up.  "
   ]
  }
 ],
 "metadata": {
  "kernelspec": {
   "display_name": "Python 3 (ipykernel)",
   "language": "python",
   "name": "python3"
  },
  "language_info": {
   "codemirror_mode": {
    "name": "ipython",
    "version": 3
   },
   "file_extension": ".py",
   "mimetype": "text/x-python",
   "name": "python",
   "nbconvert_exporter": "python",
   "pygments_lexer": "ipython3",
   "version": "3.9.0"
  }
 },
 "nbformat": 4,
 "nbformat_minor": 5
}
