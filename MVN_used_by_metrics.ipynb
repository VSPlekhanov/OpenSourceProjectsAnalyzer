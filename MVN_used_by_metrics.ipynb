{
  "nbformat": 4,
  "nbformat_minor": 0,
  "metadata": {
    "colab": {
      "name": "MVN_used_by_metrics.ipynb",
      "provenance": [],
      "collapsed_sections": []
    },
    "kernelspec": {
      "name": "python3",
      "display_name": "Python 3"
    },
    "language_info": {
      "name": "python"
    }
  },
  "cells": [
    {
      "cell_type": "code",
      "execution_count": 50,
      "metadata": {
        "id": "J2QE_AbYgOXS"
      },
      "outputs": [],
      "source": [
        "import matplotlib.pyplot as plt\n",
        "import numpy as np"
      ]
    },
    {
      "cell_type": "markdown",
      "source": [
        "# Core Idea\n",
        "\n",
        "If a JVM poject is used by many others projects in MVN central respository, then it is probably well-maintained.\n",
        "\n",
        "Other projects trust to it and rely on it maintainance. \n",
        "\n",
        "Of there might be situation when the project is used by many abandoned ones, but this is out of the scope of this particular notebook\n"
      ],
      "metadata": {
        "id": "KN0lHiVSrH3E"
      }
    },
    {
      "cell_type": "code",
      "source": [
        "raw_data = \"\"\"\n",
        "project_url,intuitive_score,maven_used_by\n",
        "https://github.com/google/guava,10,29594\n",
        "https://github.com/hierynomus/smbj,5,19\n",
        "https://github.com/projectlombok/lombok,8,14281\n",
        "https://github.com/spring-projects/spring-shell,7,371\n",
        "https://github.com/jboner/aspectwerkz,1,4\n",
        "https://github.com/jetlang/remoting,3,0\n",
        "https://github.com/proofpoint/platform,5,45\n",
        "https://github.com/mozilla/rhino,7,589\n",
        "https://github.com/maguro/lua4j,1,4\n",
        "https://github.com/AppFormer/uberfire,0,149\n",
        "https://github.com/jboss-switchyard/core,1,139\n",
        "https://github.com/dakrone/cheshire,6,1740\n",
        "https://github.com/marick/Midje,7,1265\n",
        "https://github.com/j256/ormlite-android,7,95\n",
        "\"\"\""
      ],
      "metadata": {
        "id": "BqefNx8ogbyq"
      },
      "execution_count": 51,
      "outputs": []
    },
    {
      "cell_type": "code",
      "source": [
        "scores, usages = [], []\n",
        "for line in raw_data.split(\"\\n\")[2:-1]:\n",
        "  arr = line.split(\",\")\n",
        "  scores.append(int(arr[1]))\n",
        "  usages.append(int(arr[2]))"
      ],
      "metadata": {
        "id": "ixdaj6_uglT8"
      },
      "execution_count": 52,
      "outputs": []
    },
    {
      "cell_type": "code",
      "source": [
        "plt.plot(scores, usages, 'go')"
      ],
      "metadata": {
        "colab": {
          "base_uri": "https://localhost:8080/",
          "height": 282
        },
        "id": "bMpRBvEGg7sH",
        "outputId": "c4b7045e-2f77-4657-8695-415ae70dbbdc"
      },
      "execution_count": 53,
      "outputs": [
        {
          "output_type": "execute_result",
          "data": {
            "text/plain": [
              "[<matplotlib.lines.Line2D at 0x7f6e2967d690>]"
            ]
          },
          "metadata": {},
          "execution_count": 53
        },
        {
          "output_type": "display_data",
          "data": {
            "image/png": "[encoded data removed]",
            "text/plain": [
              "<Figure size 432x288 with 1 Axes>"
            ]
          },
          "metadata": {
            "needs_background": "light"
          }
        }
      ]
    },
    {
      "cell_type": "code",
      "source": [
        "usages = [x if x != 0 else 1 for x in usages]\n",
        "usages_log = np.log2(usages)\n"
      ],
      "metadata": {
        "id": "CRbfYrOrjUfq"
      },
      "execution_count": 54,
      "outputs": []
    },
    {
      "cell_type": "code",
      "source": [
        "plt.plot(scores, usages_log, 'go')"
      ],
      "metadata": {
        "colab": {
          "base_uri": "https://localhost:8080/",
          "height": 282
        },
        "id": "7XMlYoEvhXCA",
        "outputId": "1a590d5b-4071-476c-a4a8-57e2270f7a8b"
      },
      "execution_count": 55,
      "outputs": [
        {
          "output_type": "execute_result",
          "data": {
            "text/plain": [
              "[<matplotlib.lines.Line2D at 0x7f6e29665750>]"
            ]
          },
          "metadata": {},
          "execution_count": 55
        },
        {
          "output_type": "display_data",
          "data": {
            "image/png": "[encoded data removed]",
            "text/plain": [
              "<Figure size 432x288 with 1 Axes>"
            ]
          },
          "metadata": {
            "needs_background": "light"
          }
        }
      ]
    },
    {
      "cell_type": "code",
      "source": [
        "np.corrcoef(usages_log, scores)[0][1]"
      ],
      "metadata": {
        "colab": {
          "base_uri": "https://localhost:8080/"
        },
        "id": "fIO7r68IkVYL",
        "outputId": "373fc087-5341-4135-e1be-507bc6c852b4"
      },
      "execution_count": 56,
      "outputs": [
        {
          "output_type": "execute_result",
          "data": {
            "text/plain": [
              "0.7284511654361409"
            ]
          },
          "metadata": {},
          "execution_count": 56
        }
      ]
    },
    {
      "cell_type": "markdown",
      "source": [
        "#Results:\n",
        "There are good correlation between scores and amount of projects wich is using this project via maven central."
      ],
      "metadata": {
        "id": "mB8GwfTNsJBl"
      }
    }
  ]
}