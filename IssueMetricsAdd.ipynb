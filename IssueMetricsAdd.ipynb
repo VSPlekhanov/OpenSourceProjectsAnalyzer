{
  "cells": [
    {
      "cell_type": "markdown",
      "metadata": {
        "id": "LskwOqKUR6W3"
      },
      "source": [
        "#**Opensource Project Metrics**\n",
        "\n",
        "## **Core Idea**\n",
        "\n",
        "Significant metrics to represent project acitivity by tracking recent issues:\n",
        "\n",
        "* The percentage of recent open issues : ✔\n",
        "\n",
        "* The percentage of recent open pull requests : ✔\n",
        "\n",
        "* Median time of resolution recent issues: (in process)\n",
        "\n",
        "* Median time of closing recent pull requests: (in process)\n",
        "\n",
        "All metrics are calculated in period of `past month` using GitHub API.\n",
        "\n",
        "\n",
        "\n",
        "\n"
      ]
    },
    {
      "cell_type": "code",
      "execution_count": 5,
      "metadata": {
        "colab": {
          "base_uri": "https://localhost:8080/"
        },
        "id": "rtzDoOjKRU3O",
        "outputId": "a15e781a-bad7-4286-9f93-7ebfabebb9fa"
      },
      "outputs": [
        {
          "output_type": "stream",
          "name": "stdout",
          "text": [
            "Requirement already satisfied: PyGitHub in /usr/local/lib/python3.7/dist-packages (1.55)\n",
            "Requirement already satisfied: deprecated in /usr/local/lib/python3.7/dist-packages (from PyGitHub) (1.2.13)\n",
            "Requirement already satisfied: pyjwt>=2.0 in /usr/local/lib/python3.7/dist-packages (from PyGitHub) (2.3.0)\n",
            "Requirement already satisfied: requests>=2.14.0 in /usr/local/lib/python3.7/dist-packages (from PyGitHub) (2.23.0)\n",
            "Requirement already satisfied: pynacl>=1.4.0 in /usr/local/lib/python3.7/dist-packages (from PyGitHub) (1.4.0)\n",
            "Requirement already satisfied: cffi>=1.4.1 in /usr/local/lib/python3.7/dist-packages (from pynacl>=1.4.0->PyGitHub) (1.15.0)\n",
            "Requirement already satisfied: six in /usr/local/lib/python3.7/dist-packages (from pynacl>=1.4.0->PyGitHub) (1.15.0)\n",
            "Requirement already satisfied: pycparser in /usr/local/lib/python3.7/dist-packages (from cffi>=1.4.1->pynacl>=1.4.0->PyGitHub) (2.21)\n",
            "Requirement already satisfied: urllib3!=1.25.0,!=1.25.1,<1.26,>=1.21.1 in /usr/local/lib/python3.7/dist-packages (from requests>=2.14.0->PyGitHub) (1.24.3)\n",
            "Requirement already satisfied: chardet<4,>=3.0.2 in /usr/local/lib/python3.7/dist-packages (from requests>=2.14.0->PyGitHub) (3.0.4)\n",
            "Requirement already satisfied: certifi>=2017.4.17 in /usr/local/lib/python3.7/dist-packages (from requests>=2.14.0->PyGitHub) (2021.10.8)\n",
            "Requirement already satisfied: idna<3,>=2.5 in /usr/local/lib/python3.7/dist-packages (from requests>=2.14.0->PyGitHub) (2.10)\n",
            "Requirement already satisfied: wrapt<2,>=1.10 in /usr/local/lib/python3.7/dist-packages (from deprecated->PyGitHub) (1.13.3)\n"
          ]
        }
      ],
      "source": [
        "pip install PyGitHub"
      ]
    },
    {
      "cell_type": "code",
      "execution_count": 6,
      "metadata": {
        "colab": {
          "base_uri": "https://localhost:8080/"
        },
        "id": "MURUWIhNgToN",
        "outputId": "117eaa3c-41ba-4f6b-ef28-8030ce7732fd"
      },
      "outputs": [
        {
          "output_type": "stream",
          "name": "stdout",
          "text": [
            "Requirement already satisfied: GitPython in /usr/local/lib/python3.7/dist-packages (3.1.24)\n",
            "Requirement already satisfied: typing-extensions>=3.7.4.3 in /usr/local/lib/python3.7/dist-packages (from GitPython) (3.10.0.2)\n",
            "Requirement already satisfied: gitdb<5,>=4.0.1 in /usr/local/lib/python3.7/dist-packages (from GitPython) (4.0.9)\n",
            "Requirement already satisfied: smmap<6,>=3.0.1 in /usr/local/lib/python3.7/dist-packages (from gitdb<5,>=4.0.1->GitPython) (5.0.0)\n"
          ]
        }
      ],
      "source": [
        "pip install GitPython"
      ]
    },
    {
      "cell_type": "code",
      "execution_count": 7,
      "metadata": {
        "id": "m9RI1boARiIU"
      },
      "outputs": [],
      "source": [
        "from tqdm import tqdm\n",
        "import pandas as pd\n",
        "import numpy as np\n",
        "import matplotlib.pyplot as plt\n",
        "import time\n",
        "import seaborn as sns\n",
        "from datetime import datetime, timedelta\n",
        "from github import Github\n",
        "from git import Repo\n",
        "from github import RateLimitExceededException\n"
      ]
    },
    {
      "cell_type": "markdown",
      "metadata": {
        "id": "ffFI4XAd0oaT"
      },
      "source": [
        "### 1. Preprocessing data and writing metrics functions:"
      ]
    },
    {
      "cell_type": "code",
      "execution_count": 53,
      "metadata": {
        "id": "55avammP_bOR"
      },
      "outputs": [],
      "source": [
        "# init GIT API\n",
        "# g = Github('api_key') "
      ]
    },
    {
      "cell_type": "code",
      "execution_count": 44,
      "metadata": {
        "colab": {
          "base_uri": "https://localhost:8080/",
          "height": 802
        },
        "id": "KJEHPrtZTSCA",
        "outputId": "3220eaa7-f96d-4d11-e758-f6921aa72993"
      },
      "outputs": [
        {
          "output_type": "execute_result",
          "data": {
            "text/html": [
              "<div>\n",
              "<style scoped>\n",
              "    .dataframe tbody tr th:only-of-type {\n",
              "        vertical-align: middle;\n",
              "    }\n",
              "\n",
              "    .dataframe tbody tr th {\n",
              "        vertical-align: top;\n",
              "    }\n",
              "\n",
              "    .dataframe thead th {\n",
              "        text-align: right;\n",
              "    }\n",
              "</style>\n",
              "<table border=\"1\" class=\"dataframe\">\n",
              "  <thead>\n",
              "    <tr style=\"text-align: right;\">\n",
              "      <th></th>\n",
              "      <th>project_url</th>\n",
              "      <th>intuitive_score_elizabet38</th>\n",
              "      <th>intuitive_score_inspired99</th>\n",
              "      <th>intuitive_score_DanielGabitov</th>\n",
              "      <th>intuitive_score_VSPlekhanov</th>\n",
              "      <th>average</th>\n",
              "    </tr>\n",
              "  </thead>\n",
              "  <tbody>\n",
              "    <tr>\n",
              "      <th>0</th>\n",
              "      <td>https://github.com/angular/angular</td>\n",
              "      <td>10</td>\n",
              "      <td>9</td>\n",
              "      <td>10</td>\n",
              "      <td>10</td>\n",
              "      <td>9.75</td>\n",
              "    </tr>\n",
              "    <tr>\n",
              "      <th>1</th>\n",
              "      <td>https://github.com/pharo-project/pharo</td>\n",
              "      <td>9</td>\n",
              "      <td>6</td>\n",
              "      <td>8</td>\n",
              "      <td>10</td>\n",
              "      <td>8.25</td>\n",
              "    </tr>\n",
              "    <tr>\n",
              "      <th>2</th>\n",
              "      <td>https://github.com/redline-smalltalk/redline-s...</td>\n",
              "      <td>2</td>\n",
              "      <td>4</td>\n",
              "      <td>3</td>\n",
              "      <td>3</td>\n",
              "      <td>3.00</td>\n",
              "    </tr>\n",
              "    <tr>\n",
              "      <th>3</th>\n",
              "      <td>https://github.com/fossasia/visdom</td>\n",
              "      <td>9</td>\n",
              "      <td>6</td>\n",
              "      <td>6</td>\n",
              "      <td>8</td>\n",
              "      <td>7.25</td>\n",
              "    </tr>\n",
              "    <tr>\n",
              "      <th>4</th>\n",
              "      <td>https://github.com/diaspora/diaspora</td>\n",
              "      <td>9</td>\n",
              "      <td>7</td>\n",
              "      <td>7</td>\n",
              "      <td>7</td>\n",
              "      <td>7.50</td>\n",
              "    </tr>\n",
              "    <tr>\n",
              "      <th>5</th>\n",
              "      <td>https://github.com/durch/rust-s3</td>\n",
              "      <td>7</td>\n",
              "      <td>6</td>\n",
              "      <td>5</td>\n",
              "      <td>8</td>\n",
              "      <td>6.50</td>\n",
              "    </tr>\n",
              "    <tr>\n",
              "      <th>6</th>\n",
              "      <td>https://github.com/zappa/zappa</td>\n",
              "      <td>9</td>\n",
              "      <td>7</td>\n",
              "      <td>7</td>\n",
              "      <td>7</td>\n",
              "      <td>7.50</td>\n",
              "    </tr>\n",
              "    <tr>\n",
              "      <th>7</th>\n",
              "      <td>https://github.com/mnapoli/IsItMaintained</td>\n",
              "      <td>3</td>\n",
              "      <td>1</td>\n",
              "      <td>1</td>\n",
              "      <td>3</td>\n",
              "      <td>2.00</td>\n",
              "    </tr>\n",
              "    <tr>\n",
              "      <th>8</th>\n",
              "      <td>https://github.com/logsol/Github-Auto-Deploy</td>\n",
              "      <td>2</td>\n",
              "      <td>1</td>\n",
              "      <td>1</td>\n",
              "      <td>1</td>\n",
              "      <td>1.25</td>\n",
              "    </tr>\n",
              "    <tr>\n",
              "      <th>9</th>\n",
              "      <td>https://github.com/r10r/rcswitch-pi</td>\n",
              "      <td>1</td>\n",
              "      <td>1</td>\n",
              "      <td>1</td>\n",
              "      <td>1</td>\n",
              "      <td>1.00</td>\n",
              "    </tr>\n",
              "    <tr>\n",
              "      <th>10</th>\n",
              "      <td>https://github.com/sui77/rc-switch</td>\n",
              "      <td>3</td>\n",
              "      <td>6</td>\n",
              "      <td>4</td>\n",
              "      <td>5</td>\n",
              "      <td>4.50</td>\n",
              "    </tr>\n",
              "    <tr>\n",
              "      <th>11</th>\n",
              "      <td>https://github.com/apache/cassandra</td>\n",
              "      <td>10</td>\n",
              "      <td>7</td>\n",
              "      <td>10</td>\n",
              "      <td>10</td>\n",
              "      <td>9.25</td>\n",
              "    </tr>\n",
              "    <tr>\n",
              "      <th>12</th>\n",
              "      <td>https://github.com/microsoft/vscode</td>\n",
              "      <td>10</td>\n",
              "      <td>10</td>\n",
              "      <td>10</td>\n",
              "      <td>10</td>\n",
              "      <td>10.00</td>\n",
              "    </tr>\n",
              "    <tr>\n",
              "      <th>13</th>\n",
              "      <td>https://github.com/microsoft/TypeScript</td>\n",
              "      <td>10</td>\n",
              "      <td>10</td>\n",
              "      <td>10</td>\n",
              "      <td>10</td>\n",
              "      <td>10.00</td>\n",
              "    </tr>\n",
              "    <tr>\n",
              "      <th>14</th>\n",
              "      <td>https://github.com/google/guava</td>\n",
              "      <td>10</td>\n",
              "      <td>9</td>\n",
              "      <td>10</td>\n",
              "      <td>10</td>\n",
              "      <td>9.75</td>\n",
              "    </tr>\n",
              "    <tr>\n",
              "      <th>15</th>\n",
              "      <td>https://github.com/google/leveldb</td>\n",
              "      <td>8</td>\n",
              "      <td>7</td>\n",
              "      <td>10</td>\n",
              "      <td>9</td>\n",
              "      <td>8.50</td>\n",
              "    </tr>\n",
              "    <tr>\n",
              "      <th>16</th>\n",
              "      <td>https://github.com/vuejs/vue</td>\n",
              "      <td>10</td>\n",
              "      <td>8</td>\n",
              "      <td>8</td>\n",
              "      <td>10</td>\n",
              "      <td>9.00</td>\n",
              "    </tr>\n",
              "    <tr>\n",
              "      <th>17</th>\n",
              "      <td>https://github.com/tensorflow/tensorflow</td>\n",
              "      <td>10</td>\n",
              "      <td>10</td>\n",
              "      <td>10</td>\n",
              "      <td>10</td>\n",
              "      <td>10.00</td>\n",
              "    </tr>\n",
              "    <tr>\n",
              "      <th>18</th>\n",
              "      <td>https://github.com/golang/go</td>\n",
              "      <td>10</td>\n",
              "      <td>10</td>\n",
              "      <td>10</td>\n",
              "      <td>10</td>\n",
              "      <td>10.00</td>\n",
              "    </tr>\n",
              "    <tr>\n",
              "      <th>19</th>\n",
              "      <td>https://github.com/dtao/lazy.js</td>\n",
              "      <td>8</td>\n",
              "      <td>5</td>\n",
              "      <td>3</td>\n",
              "      <td>4</td>\n",
              "      <td>5.00</td>\n",
              "    </tr>\n",
              "    <tr>\n",
              "      <th>20</th>\n",
              "      <td>https://github.com/evernote/android-job</td>\n",
              "      <td>1</td>\n",
              "      <td>1</td>\n",
              "      <td>1</td>\n",
              "      <td>1</td>\n",
              "      <td>1.00</td>\n",
              "    </tr>\n",
              "    <tr>\n",
              "      <th>21</th>\n",
              "      <td>https://github.com/ValveSoftware/openvr</td>\n",
              "      <td>4</td>\n",
              "      <td>8</td>\n",
              "      <td>1</td>\n",
              "      <td>2</td>\n",
              "      <td>3.75</td>\n",
              "    </tr>\n",
              "    <tr>\n",
              "      <th>22</th>\n",
              "      <td>https://github.com/googleanalytics/autotrack</td>\n",
              "      <td>1</td>\n",
              "      <td>3</td>\n",
              "      <td>1</td>\n",
              "      <td>1</td>\n",
              "      <td>1.50</td>\n",
              "    </tr>\n",
              "    <tr>\n",
              "      <th>23</th>\n",
              "      <td>https://github.com/hierynomus/smbj</td>\n",
              "      <td>5</td>\n",
              "      <td>5</td>\n",
              "      <td>4</td>\n",
              "      <td>6</td>\n",
              "      <td>5.00</td>\n",
              "    </tr>\n",
              "  </tbody>\n",
              "</table>\n",
              "</div>"
            ],
            "text/plain": [
              "                                          project_url  ...  average\n",
              "0                  https://github.com/angular/angular  ...     9.75\n",
              "1              https://github.com/pharo-project/pharo  ...     8.25\n",
              "2   https://github.com/redline-smalltalk/redline-s...  ...     3.00\n",
              "3                  https://github.com/fossasia/visdom  ...     7.25\n",
              "4                https://github.com/diaspora/diaspora  ...     7.50\n",
              "5                    https://github.com/durch/rust-s3  ...     6.50\n",
              "6                      https://github.com/zappa/zappa  ...     7.50\n",
              "7           https://github.com/mnapoli/IsItMaintained  ...     2.00\n",
              "8        https://github.com/logsol/Github-Auto-Deploy  ...     1.25\n",
              "9                 https://github.com/r10r/rcswitch-pi  ...     1.00\n",
              "10                 https://github.com/sui77/rc-switch  ...     4.50\n",
              "11                https://github.com/apache/cassandra  ...     9.25\n",
              "12                https://github.com/microsoft/vscode  ...    10.00\n",
              "13            https://github.com/microsoft/TypeScript  ...    10.00\n",
              "14                    https://github.com/google/guava  ...     9.75\n",
              "15                  https://github.com/google/leveldb  ...     8.50\n",
              "16                       https://github.com/vuejs/vue  ...     9.00\n",
              "17           https://github.com/tensorflow/tensorflow  ...    10.00\n",
              "18                       https://github.com/golang/go  ...    10.00\n",
              "19                    https://github.com/dtao/lazy.js  ...     5.00\n",
              "20            https://github.com/evernote/android-job  ...     1.00\n",
              "21            https://github.com/ValveSoftware/openvr  ...     3.75\n",
              "22       https://github.com/googleanalytics/autotrack  ...     1.50\n",
              "23                 https://github.com/hierynomus/smbj  ...     5.00\n",
              "\n",
              "[24 rows x 6 columns]"
            ]
          },
          "metadata": {},
          "execution_count": 44
        }
      ],
      "source": [
        "test_data = pd.read_csv(\"./projects_list.csv\")\n",
        "test_data"
      ]
    },
    {
      "cell_type": "code",
      "execution_count": 24,
      "metadata": {
        "id": "J5UKFIl0ryia"
      },
      "outputs": [],
      "source": [
        "def normalize_data(data):\n",
        "  for i in range(data.shape[0]):\n",
        "    data['average'][i] /= 10\n",
        "  return data\n"
      ]
    },
    {
      "cell_type": "code",
      "execution_count": 25,
      "metadata": {
        "id": "nC0JabODWM0e"
      },
      "outputs": [],
      "source": [
        "def count_open_issues_and_pr(issues):\n",
        "    cnt_open_issues = 0\n",
        "    cnt_closed_issues = 0\n",
        "    cnt_open_pr = 0\n",
        "    cnt_closed_pr = 0\n",
        "\n",
        "\n",
        "    for starting_index, issue in enumerate(issues): \n",
        "        if not issue.pull_request:\n",
        "            if issue.state == 'open':\n",
        "                cnt_open_issues += 1\n",
        "            else:\n",
        "                cnt_closed_issues += 1\n",
        "        else:\n",
        "            if issue.state == 'open':\n",
        "                cnt_open_pr += 1\n",
        "            else:\n",
        "                cnt_closed_pr += 1\n",
        "        if starting_index >= 2000:\n",
        "            return cnt_open_issues, cnt_closed_issues, cnt_open_pr, cnt_closed_pr\n",
        "    return cnt_open_issues, cnt_closed_issues, cnt_open_pr, cnt_closed_pr\n"
      ]
    },
    {
      "cell_type": "code",
      "execution_count": 26,
      "metadata": {
        "id": "AZCqh_WVcbh4"
      },
      "outputs": [],
      "source": [
        "def get_percentage_open_issues_and_pr(url):\n",
        "    username = url.split(\"/\")[-2]\n",
        "    repo = url.split(\"/\")[-1]\n",
        "    repo = g.get_repo(f'{username}/{repo}')\n",
        "    \n",
        "    date = datetime.today()\n",
        "    period = date - timedelta(days=30)\n",
        "    issues = repo.get_issues(state = 'all', since=period, sort='Newest')\n",
        "    \n",
        "    cnt_open_issues, cnt_closed_issues, cnt_open_pr, cnt_closed_pr = count_open_issues_and_pr(issues)\n",
        "\n",
        "    total_issues = cnt_open_issues + cnt_closed_issues\n",
        "    total_pr = cnt_open_pr + cnt_closed_pr\n",
        "\n",
        "    if total_issues:\n",
        "        percentage_issues = cnt_open_issues / total_issues\n",
        "    else:\n",
        "        percentage_issues = 0\n",
        "    \n",
        "    if total_pr:\n",
        "        percentage_pr = cnt_open_pr / total_pr\n",
        "    else:\n",
        "        percentage_pr = 0\n",
        "    print(f'{url} is done, total issues: {total_issues}, total PRs: {total_pr}')\n",
        "\n",
        "    return total_issues, percentage_issues, total_pr, percentage_pr\n",
        "\n"
      ]
    },
    {
      "cell_type": "markdown",
      "metadata": {
        "id": "X8cvfjlPs7fG"
      },
      "source": [
        "### 2. Calculating results for the metrics\n",
        "\n"
      ]
    },
    {
      "cell_type": "code",
      "execution_count": 41,
      "metadata": {
        "id": "7LurZ7U7b2X5"
      },
      "outputs": [],
      "source": [
        "def results_percentage_open_issues_and_pr(data, start=0, end=test_data.shape[0]):\n",
        "    results = pd.DataFrame(columns=['Project url', 'Total issues' ,\n",
        "            'Percentage of open issues','Total PRs', 'Percentage of open Prs'])\n",
        "    results['Project url'] = data['project_url']\n",
        "    results.fillna(0)\n",
        "    \n",
        "    for i in tqdm(range(start, end)):\n",
        "        total_iss, perc_iss, total_pr, perc_pr = get_percentage_open_issues_and_pr(data['project_url'][i])\n",
        "        results['Total issues'][i] = total_iss\n",
        "        results['Percentage of open issues'][i] = perc_iss * 100\n",
        "        results['Total PRs'][i] = total_pr\n",
        "        results['Percentage of open Prs'][i] = perc_pr * 100\n",
        "        # time.sleep(30)       \n",
        "\n",
        "    return results\n"
      ]
    },
    {
      "cell_type": "code",
      "execution_count": 45,
      "metadata": {
        "colab": {
          "base_uri": "https://localhost:8080/"
        },
        "id": "zQQxA_mTiMTo",
        "outputId": "b0f6be56-5bd0-40c8-8a8e-6f5d48d1c4e5"
      },
      "outputs": [
        {
          "output_type": "stream",
          "name": "stderr",
          "text": [
            "  6%|▌         | 1/17 [01:27<23:24, 87.75s/it]"
          ]
        },
        {
          "output_type": "stream",
          "name": "stdout",
          "text": [
            "https://github.com/angular/angular is done, total issues: 401, total PRs: 475\n"
          ]
        },
        {
          "output_type": "stream",
          "name": "stderr",
          "text": [
            "\r 12%|█▏        | 2/17 [02:07<14:53, 59.57s/it]"
          ]
        },
        {
          "output_type": "stream",
          "name": "stdout",
          "text": [
            "https://github.com/pharo-project/pharo is done, total issues: 213, total PRs: 185\n"
          ]
        },
        {
          "output_type": "stream",
          "name": "stderr",
          "text": [
            "\r 18%|█▊        | 3/17 [02:07<07:35, 32.50s/it]"
          ]
        },
        {
          "output_type": "stream",
          "name": "stdout",
          "text": [
            "https://github.com/redline-smalltalk/redline-smalltalk is done, total issues: 0, total PRs: 0\n"
          ]
        },
        {
          "output_type": "stream",
          "name": "stderr",
          "text": [
            "\r 24%|██▎       | 4/17 [02:09<04:21, 20.11s/it]"
          ]
        },
        {
          "output_type": "stream",
          "name": "stdout",
          "text": [
            "https://github.com/fossasia/visdom is done, total issues: 5, total PRs: 3\n"
          ]
        },
        {
          "output_type": "stream",
          "name": "stderr",
          "text": [
            "\r 29%|██▉       | 5/17 [02:11<02:44, 13.71s/it]"
          ]
        },
        {
          "output_type": "stream",
          "name": "stdout",
          "text": [
            "https://github.com/diaspora/diaspora is done, total issues: 12, total PRs: 15\n"
          ]
        },
        {
          "output_type": "stream",
          "name": "stderr",
          "text": [
            "\r 35%|███▌      | 6/17 [02:12<01:43,  9.41s/it]"
          ]
        },
        {
          "output_type": "stream",
          "name": "stdout",
          "text": [
            "https://github.com/durch/rust-s3 is done, total issues: 5, total PRs: 4\n"
          ]
        },
        {
          "output_type": "stream",
          "name": "stderr",
          "text": [
            "\r 41%|████      | 7/17 [02:16<01:15,  7.54s/it]"
          ]
        },
        {
          "output_type": "stream",
          "name": "stdout",
          "text": [
            "https://github.com/zappa/zappa is done, total issues: 20, total PRs: 19\n"
          ]
        },
        {
          "output_type": "stream",
          "name": "stderr",
          "text": [
            "\r 47%|████▋     | 8/17 [02:16<00:47,  5.22s/it]"
          ]
        },
        {
          "output_type": "stream",
          "name": "stdout",
          "text": [
            "https://github.com/mnapoli/IsItMaintained is done, total issues: 0, total PRs: 0\n"
          ]
        },
        {
          "output_type": "stream",
          "name": "stderr",
          "text": [
            "\r 53%|█████▎    | 9/17 [02:16<00:29,  3.68s/it]"
          ]
        },
        {
          "output_type": "stream",
          "name": "stdout",
          "text": [
            "https://github.com/logsol/Github-Auto-Deploy is done, total issues: 0, total PRs: 0\n"
          ]
        },
        {
          "output_type": "stream",
          "name": "stderr",
          "text": [
            "\r 59%|█████▉    | 10/17 [02:16<00:18,  2.62s/it]"
          ]
        },
        {
          "output_type": "stream",
          "name": "stdout",
          "text": [
            "https://github.com/r10r/rcswitch-pi is done, total issues: 0, total PRs: 0\n"
          ]
        },
        {
          "output_type": "stream",
          "name": "stderr",
          "text": [
            "\r 65%|██████▍   | 11/17 [02:18<00:13,  2.26s/it]"
          ]
        },
        {
          "output_type": "stream",
          "name": "stdout",
          "text": [
            "https://github.com/sui77/rc-switch is done, total issues: 8, total PRs: 1\n"
          ]
        },
        {
          "output_type": "stream",
          "name": "stderr",
          "text": [
            "\r 71%|███████   | 12/17 [02:19<00:10,  2.02s/it]"
          ]
        },
        {
          "output_type": "stream",
          "name": "stdout",
          "text": [
            "https://github.com/apache/cassandra is done, total issues: 0, total PRs: 91\n"
          ]
        },
        {
          "output_type": "stream",
          "name": "stderr",
          "text": [
            "\r 76%|███████▋  | 13/17 [08:36<07:42, 115.61s/it]"
          ]
        },
        {
          "output_type": "stream",
          "name": "stdout",
          "text": [
            "https://github.com/microsoft/vscode is done, total issues: 1827, total PRs: 174\n"
          ]
        },
        {
          "output_type": "stream",
          "name": "stderr",
          "text": [
            "\r 82%|████████▏ | 14/17 [10:42<05:55, 118.54s/it]"
          ]
        },
        {
          "output_type": "stream",
          "name": "stdout",
          "text": [
            "https://github.com/microsoft/TypeScript is done, total issues: 604, total PRs: 160\n"
          ]
        },
        {
          "output_type": "stream",
          "name": "stderr",
          "text": [
            "\r 88%|████████▊ | 15/17 [10:45<02:47, 83.92s/it] "
          ]
        },
        {
          "output_type": "stream",
          "name": "stdout",
          "text": [
            "https://github.com/google/guava is done, total issues: 19, total PRs: 25\n"
          ]
        },
        {
          "output_type": "stream",
          "name": "stderr",
          "text": [
            "\r 94%|█████████▍| 16/17 [10:48<00:59, 59.34s/it]"
          ]
        },
        {
          "output_type": "stream",
          "name": "stdout",
          "text": [
            "https://github.com/google/leveldb is done, total issues: 12, total PRs: 11\n"
          ]
        },
        {
          "output_type": "stream",
          "name": "stderr",
          "text": [
            "100%|██████████| 17/17 [10:56<00:00, 38.64s/it]"
          ]
        },
        {
          "output_type": "stream",
          "name": "stdout",
          "text": [
            "https://github.com/vuejs/vue is done, total issues: 40, total PRs: 13\n"
          ]
        },
        {
          "output_type": "stream",
          "name": "stderr",
          "text": [
            "\n"
          ]
        }
      ],
      "source": [
        "# Processing results for percentage of issues and PRs \n",
        "results = results_percentage_open_issues_and_pr(test_data, end = 17)\n",
        "       "
      ]
    },
    {
      "cell_type": "code",
      "execution_count": 54,
      "metadata": {
        "colab": {
          "base_uri": "https://localhost:8080/"
        },
        "id": "oithGAYx819O",
        "outputId": "c938ae9f-86a5-448b-8d11-808cb2d7832a"
      },
      "outputs": [
        {
          "output_type": "stream",
          "name": "stderr",
          "text": [
            " 14%|█▍        | 1/7 [03:42<22:13, 222.30s/it]"
          ]
        },
        {
          "output_type": "stream",
          "name": "stdout",
          "text": [
            "https://github.com/tensorflow/tensorflow is done, total issues: 960, total PRs: 217\n"
          ]
        },
        {
          "output_type": "stream",
          "name": "stderr",
          "text": [
            "\r 29%|██▊       | 2/7 [09:15<23:58, 287.72s/it]"
          ]
        },
        {
          "output_type": "stream",
          "name": "stdout",
          "text": [
            "https://github.com/golang/go is done, total issues: 1506, total PRs: 57\n"
          ]
        },
        {
          "output_type": "stream",
          "name": "stderr",
          "text": [
            "\r 43%|████▎     | 3/7 [09:16<10:25, 156.48s/it]"
          ]
        },
        {
          "output_type": "stream",
          "name": "stdout",
          "text": [
            "https://github.com/dtao/lazy.js is done, total issues: 0, total PRs: 0\n"
          ]
        },
        {
          "output_type": "stream",
          "name": "stderr",
          "text": [
            "\r 57%|█████▋    | 4/7 [09:16<04:44, 94.85s/it] "
          ]
        },
        {
          "output_type": "stream",
          "name": "stdout",
          "text": [
            "https://github.com/evernote/android-job is done, total issues: 0, total PRs: 0\n"
          ]
        },
        {
          "output_type": "stream",
          "name": "stderr",
          "text": [
            "\r 71%|███████▏  | 5/7 [09:20<02:04, 62.17s/it]"
          ]
        },
        {
          "output_type": "stream",
          "name": "stdout",
          "text": [
            "https://github.com/ValveSoftware/openvr is done, total issues: 15, total PRs: 1\n"
          ]
        },
        {
          "output_type": "stream",
          "name": "stderr",
          "text": [
            "\r 86%|████████▌ | 6/7 [09:21<00:41, 41.16s/it]"
          ]
        },
        {
          "output_type": "stream",
          "name": "stdout",
          "text": [
            "https://github.com/googleanalytics/autotrack is done, total issues: 0, total PRs: 0\n"
          ]
        },
        {
          "output_type": "stream",
          "name": "stderr",
          "text": [
            "100%|██████████| 7/7 [09:23<00:00, 80.51s/it]"
          ]
        },
        {
          "output_type": "stream",
          "name": "stdout",
          "text": [
            "https://github.com/hierynomus/smbj is done, total issues: 11, total PRs: 0\n"
          ]
        },
        {
          "output_type": "stream",
          "name": "stderr",
          "text": [
            "\n"
          ]
        }
      ],
      "source": [
        "last_iter = 17\n",
        "size = test_data.shape[0]\n",
        "results.iloc[last_iter:] = results_percentage_open_issues_and_pr(test_data, start=last_iter)\n",
        "\n"
      ]
    },
    {
      "cell_type": "code",
      "execution_count": 55,
      "metadata": {
        "id": "mhe3ljTW4qTk",
        "colab": {
          "base_uri": "https://localhost:8080/",
          "height": 802
        },
        "outputId": "266f033b-b017-4ae9-ecf0-ec050a5abc30"
      },
      "outputs": [
        {
          "output_type": "execute_result",
          "data": {
            "text/html": [
              "<div>\n",
              "<style scoped>\n",
              "    .dataframe tbody tr th:only-of-type {\n",
              "        vertical-align: middle;\n",
              "    }\n",
              "\n",
              "    .dataframe tbody tr th {\n",
              "        vertical-align: top;\n",
              "    }\n",
              "\n",
              "    .dataframe thead th {\n",
              "        text-align: right;\n",
              "    }\n",
              "</style>\n",
              "<table border=\"1\" class=\"dataframe\">\n",
              "  <thead>\n",
              "    <tr style=\"text-align: right;\">\n",
              "      <th></th>\n",
              "      <th>Project url</th>\n",
              "      <th>Total issues</th>\n",
              "      <th>Percentage of open issues</th>\n",
              "      <th>Total PRs</th>\n",
              "      <th>Percentage of open Prs</th>\n",
              "    </tr>\n",
              "  </thead>\n",
              "  <tbody>\n",
              "    <tr>\n",
              "      <th>0</th>\n",
              "      <td>https://github.com/angular/angular</td>\n",
              "      <td>401</td>\n",
              "      <td>51.8703</td>\n",
              "      <td>475</td>\n",
              "      <td>15.7895</td>\n",
              "    </tr>\n",
              "    <tr>\n",
              "      <th>1</th>\n",
              "      <td>https://github.com/pharo-project/pharo</td>\n",
              "      <td>213</td>\n",
              "      <td>23.9437</td>\n",
              "      <td>185</td>\n",
              "      <td>8.10811</td>\n",
              "    </tr>\n",
              "    <tr>\n",
              "      <th>2</th>\n",
              "      <td>https://github.com/redline-smalltalk/redline-s...</td>\n",
              "      <td>0</td>\n",
              "      <td>0</td>\n",
              "      <td>0</td>\n",
              "      <td>0</td>\n",
              "    </tr>\n",
              "    <tr>\n",
              "      <th>3</th>\n",
              "      <td>https://github.com/fossasia/visdom</td>\n",
              "      <td>5</td>\n",
              "      <td>40</td>\n",
              "      <td>3</td>\n",
              "      <td>0</td>\n",
              "    </tr>\n",
              "    <tr>\n",
              "      <th>4</th>\n",
              "      <td>https://github.com/diaspora/diaspora</td>\n",
              "      <td>12</td>\n",
              "      <td>50</td>\n",
              "      <td>15</td>\n",
              "      <td>13.3333</td>\n",
              "    </tr>\n",
              "    <tr>\n",
              "      <th>5</th>\n",
              "      <td>https://github.com/durch/rust-s3</td>\n",
              "      <td>5</td>\n",
              "      <td>100</td>\n",
              "      <td>4</td>\n",
              "      <td>75</td>\n",
              "    </tr>\n",
              "    <tr>\n",
              "      <th>6</th>\n",
              "      <td>https://github.com/zappa/zappa</td>\n",
              "      <td>20</td>\n",
              "      <td>80</td>\n",
              "      <td>19</td>\n",
              "      <td>52.6316</td>\n",
              "    </tr>\n",
              "    <tr>\n",
              "      <th>7</th>\n",
              "      <td>https://github.com/mnapoli/IsItMaintained</td>\n",
              "      <td>0</td>\n",
              "      <td>0</td>\n",
              "      <td>0</td>\n",
              "      <td>0</td>\n",
              "    </tr>\n",
              "    <tr>\n",
              "      <th>8</th>\n",
              "      <td>https://github.com/logsol/Github-Auto-Deploy</td>\n",
              "      <td>0</td>\n",
              "      <td>0</td>\n",
              "      <td>0</td>\n",
              "      <td>0</td>\n",
              "    </tr>\n",
              "    <tr>\n",
              "      <th>9</th>\n",
              "      <td>https://github.com/r10r/rcswitch-pi</td>\n",
              "      <td>0</td>\n",
              "      <td>0</td>\n",
              "      <td>0</td>\n",
              "      <td>0</td>\n",
              "    </tr>\n",
              "    <tr>\n",
              "      <th>10</th>\n",
              "      <td>https://github.com/sui77/rc-switch</td>\n",
              "      <td>8</td>\n",
              "      <td>87.5</td>\n",
              "      <td>1</td>\n",
              "      <td>100</td>\n",
              "    </tr>\n",
              "    <tr>\n",
              "      <th>11</th>\n",
              "      <td>https://github.com/apache/cassandra</td>\n",
              "      <td>0</td>\n",
              "      <td>0</td>\n",
              "      <td>91</td>\n",
              "      <td>60.4396</td>\n",
              "    </tr>\n",
              "    <tr>\n",
              "      <th>12</th>\n",
              "      <td>https://github.com/microsoft/vscode</td>\n",
              "      <td>1827</td>\n",
              "      <td>34.9206</td>\n",
              "      <td>174</td>\n",
              "      <td>22.4138</td>\n",
              "    </tr>\n",
              "    <tr>\n",
              "      <th>13</th>\n",
              "      <td>https://github.com/microsoft/TypeScript</td>\n",
              "      <td>604</td>\n",
              "      <td>57.6159</td>\n",
              "      <td>160</td>\n",
              "      <td>46.25</td>\n",
              "    </tr>\n",
              "    <tr>\n",
              "      <th>14</th>\n",
              "      <td>https://github.com/google/guava</td>\n",
              "      <td>19</td>\n",
              "      <td>47.3684</td>\n",
              "      <td>25</td>\n",
              "      <td>12</td>\n",
              "    </tr>\n",
              "    <tr>\n",
              "      <th>15</th>\n",
              "      <td>https://github.com/google/leveldb</td>\n",
              "      <td>12</td>\n",
              "      <td>58.3333</td>\n",
              "      <td>11</td>\n",
              "      <td>36.3636</td>\n",
              "    </tr>\n",
              "    <tr>\n",
              "      <th>16</th>\n",
              "      <td>https://github.com/vuejs/vue</td>\n",
              "      <td>40</td>\n",
              "      <td>17.5</td>\n",
              "      <td>13</td>\n",
              "      <td>53.8462</td>\n",
              "    </tr>\n",
              "    <tr>\n",
              "      <th>17</th>\n",
              "      <td>https://github.com/tensorflow/tensorflow</td>\n",
              "      <td>960</td>\n",
              "      <td>48.5417</td>\n",
              "      <td>217</td>\n",
              "      <td>56.682</td>\n",
              "    </tr>\n",
              "    <tr>\n",
              "      <th>18</th>\n",
              "      <td>https://github.com/golang/go</td>\n",
              "      <td>1506</td>\n",
              "      <td>32.7357</td>\n",
              "      <td>57</td>\n",
              "      <td>54.386</td>\n",
              "    </tr>\n",
              "    <tr>\n",
              "      <th>19</th>\n",
              "      <td>https://github.com/dtao/lazy.js</td>\n",
              "      <td>0</td>\n",
              "      <td>0</td>\n",
              "      <td>0</td>\n",
              "      <td>0</td>\n",
              "    </tr>\n",
              "    <tr>\n",
              "      <th>20</th>\n",
              "      <td>https://github.com/evernote/android-job</td>\n",
              "      <td>0</td>\n",
              "      <td>0</td>\n",
              "      <td>0</td>\n",
              "      <td>0</td>\n",
              "    </tr>\n",
              "    <tr>\n",
              "      <th>21</th>\n",
              "      <td>https://github.com/ValveSoftware/openvr</td>\n",
              "      <td>15</td>\n",
              "      <td>73.3333</td>\n",
              "      <td>1</td>\n",
              "      <td>100</td>\n",
              "    </tr>\n",
              "    <tr>\n",
              "      <th>22</th>\n",
              "      <td>https://github.com/googleanalytics/autotrack</td>\n",
              "      <td>0</td>\n",
              "      <td>0</td>\n",
              "      <td>0</td>\n",
              "      <td>0</td>\n",
              "    </tr>\n",
              "    <tr>\n",
              "      <th>23</th>\n",
              "      <td>https://github.com/hierynomus/smbj</td>\n",
              "      <td>11</td>\n",
              "      <td>90.9091</td>\n",
              "      <td>0</td>\n",
              "      <td>0</td>\n",
              "    </tr>\n",
              "  </tbody>\n",
              "</table>\n",
              "</div>"
            ],
            "text/plain": [
              "                                          Project url  ... Percentage of open Prs\n",
              "0                  https://github.com/angular/angular  ...                15.7895\n",
              "1              https://github.com/pharo-project/pharo  ...                8.10811\n",
              "2   https://github.com/redline-smalltalk/redline-s...  ...                      0\n",
              "3                  https://github.com/fossasia/visdom  ...                      0\n",
              "4                https://github.com/diaspora/diaspora  ...                13.3333\n",
              "5                    https://github.com/durch/rust-s3  ...                     75\n",
              "6                      https://github.com/zappa/zappa  ...                52.6316\n",
              "7           https://github.com/mnapoli/IsItMaintained  ...                      0\n",
              "8        https://github.com/logsol/Github-Auto-Deploy  ...                      0\n",
              "9                 https://github.com/r10r/rcswitch-pi  ...                      0\n",
              "10                 https://github.com/sui77/rc-switch  ...                    100\n",
              "11                https://github.com/apache/cassandra  ...                60.4396\n",
              "12                https://github.com/microsoft/vscode  ...                22.4138\n",
              "13            https://github.com/microsoft/TypeScript  ...                  46.25\n",
              "14                    https://github.com/google/guava  ...                     12\n",
              "15                  https://github.com/google/leveldb  ...                36.3636\n",
              "16                       https://github.com/vuejs/vue  ...                53.8462\n",
              "17           https://github.com/tensorflow/tensorflow  ...                 56.682\n",
              "18                       https://github.com/golang/go  ...                 54.386\n",
              "19                    https://github.com/dtao/lazy.js  ...                      0\n",
              "20            https://github.com/evernote/android-job  ...                      0\n",
              "21            https://github.com/ValveSoftware/openvr  ...                    100\n",
              "22       https://github.com/googleanalytics/autotrack  ...                      0\n",
              "23                 https://github.com/hierynomus/smbj  ...                      0\n",
              "\n",
              "[24 rows x 5 columns]"
            ]
          },
          "metadata": {},
          "execution_count": 55
        }
      ],
      "source": [
        "results\n"
      ]
    },
    {
      "cell_type": "markdown",
      "metadata": {
        "id": "ILtofuWRTQ3s"
      },
      "source": [
        "### 3. Plotting and analysis\n"
      ]
    },
    {
      "cell_type": "code",
      "execution_count": null,
      "metadata": {
        "id": "sNs4g921lrTM"
      },
      "outputs": [],
      "source": [
        ""
      ]
    }
  ],
  "metadata": {
    "colab": {
      "collapsed_sections": [],
      "name": "IssueMetrics.ipynb",
      "provenance": []
    },
    "kernelspec": {
      "display_name": "Python 3",
      "name": "python3"
    },
    "language_info": {
      "name": "python"
    }
  },
  "nbformat": 4,
  "nbformat_minor": 0
}